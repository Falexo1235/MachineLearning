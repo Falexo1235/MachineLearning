{
  "metadata": {
    "kernelspec": {
      "language": "python",
      "display_name": "Python 3",
      "name": "python3"
    },
    "language_info": {
      "name": "python",
      "version": "3.10.12",
      "mimetype": "text/x-python",
      "codemirror_mode": {
        "name": "ipython",
        "version": 3
      },
      "pygments_lexer": "ipython3",
      "nbconvert_exporter": "python",
      "file_extension": ".py"
    },
    "kaggle": {
      "accelerator": "none",
      "dataSources": [],
      "dockerImageVersionId": 30918,
      "isInternetEnabled": false,
      "language": "python",
      "sourceType": "notebook",
      "isGpuEnabled": false
    },
    "colab": {
      "provenance": []
    }
  },
  "nbformat_minor": 0,
  "nbformat": 4,
  "cells": [
    {
      "cell_type": "code",
      "source": [
        "!pip install machinelearning-0.1.0-py3-none-any.whl"
      ],
      "metadata": {
        "trusted": true,
        "execution": {
          "iopub.status.busy": "2025-03-22T20:24:29.784736Z",
          "iopub.execute_input": "2025-03-22T20:24:29.785100Z",
          "iopub.status.idle": "2025-03-22T20:26:45.888375Z",
          "shell.execute_reply.started": "2025-03-22T20:24:29.785070Z",
          "shell.execute_reply": "2025-03-22T20:26:45.887225Z"
        },
        "id": "AjHSEMqNiexr"
      },
      "outputs": [],
      "execution_count": null
    },
    {
      "cell_type": "markdown",
      "source": [
        "Importing all used libraries"
      ],
      "metadata": {
        "id": "qz5FLsfJiexs"
      }
    },
    {
      "cell_type": "code",
      "source": [
        "import numpy as np\n",
        "import pandas as pd\n",
        "import shutil\n",
        "from catboost import CatBoostClassifier, Pool\n",
        "from sklearn.model_selection import train_test_split, StratifiedKFold\n",
        "from sklearn.metrics import accuracy_score, classification_report, roc_auc_score\n",
        "import optuna\n",
        "from catboost.utils import get_gpu_device_count"
      ],
      "metadata": {
        "id": "HEgV5qBciexs"
      },
      "outputs": [],
      "execution_count": null
    },
    {
      "cell_type": "markdown",
      "source": [
        "Setting up logging"
      ],
      "metadata": {
        "id": "sYvJMY6aiexs"
      }
    },
    {
      "cell_type": "code",
      "source": [
        "import logging\n",
        "logging.basicConfig(\n",
        "    filename='./data/log_file.log',\n",
        "    level=logging.INFO,\n",
        "    format='%(asctime)s - %(levelname)s - %(message)s'\n",
        ")"
      ],
      "metadata": {
        "id": "mG39p-l1iexs"
      },
      "outputs": [],
      "execution_count": null
    },
    {
      "cell_type": "markdown",
      "source": [
        "Checking and creating output paths"
      ],
      "metadata": {
        "id": "8y7-LW0Xiext"
      }
    },
    {
      "cell_type": "code",
      "source": [
        "import os\n",
        "\n",
        "os.makedirs('./data', exist_ok=True)\n",
        "os.makedirs('./data/model', exist_ok=True)"
      ],
      "metadata": {
        "id": "aa5T9-ZDiext"
      },
      "outputs": [],
      "execution_count": null
    },
    {
      "cell_type": "code",
      "source": [
        "class My_Classifier_Model:\n",
        "    def __init__(self):\n",
        "        self.categorical_features_indices = [\n",
        "            'HomePlanet',\n",
        "            'CryoSleep',\n",
        "            'Destination',\n",
        "            'VIP',\n",
        "            'Deck',\n",
        "            'CabinNumber',\n",
        "            'Side',\n",
        "            'Group'\n",
        "        ]\n",
        "\n",
        "        self.model_path = './data/model/catboost_model.cbm'\n",
        ""
      ],
      "metadata": {
        "id": "wa9jwnmoiext"
      },
      "outputs": [],
      "execution_count": null
    },
    {
      "cell_type": "markdown",
      "source": [
        "GPU compatibility check"
      ],
      "metadata": {
        "id": "kkdaR1BHiext"
      }
    },
    {
      "cell_type": "code",
      "source": [
        "def _check_gpu_support(self):\n",
        "        \"\"\"Checking GPU compatibility through catboost.\"\"\"\n",
        "        logging.info(\"Checking GPU compatibility...\")\n",
        "        try:\n",
        "            from catboost.utils import get_gpu_device_count\n",
        "            if (get_gpu_device_count() == 0):\n",
        "                logging.info(\"GPU is not supported, --use_gpu=False\")\n",
        "            return get_gpu_device_count() > 0\n",
        "        except:\n",
        "            logging.info(\"GPU is not supported, --use_gpu=False\")\n",
        "            return False"
      ],
      "metadata": {
        "id": "RUKdqSmsiext"
      },
      "outputs": [],
      "execution_count": null
    },
    {
      "cell_type": "markdown",
      "source": [
        "**Preprocessing data**\n",
        "\n",
        "Making data more reliable for training. Deleting unimportant numbers, setting up categorical, numerical columns"
      ],
      "metadata": {
        "id": "sPdbkz6hiext"
      }
    },
    {
      "cell_type": "code",
      "source": [
        "def _preprocess_data(self, dataset):\n",
        "        logging.info(\"Starting data preprocessing\")\n",
        "\n",
        "        df = dataset.copy()\n",
        "\n",
        "        df['Group'] = df['PassengerId'].apply(lambda x: x.split('_')[0])\n",
        "        df['NumberInGroup'] = df['PassengerId'].apply(lambda x: x.split('_')[1])\n",
        "\n",
        "        df['Deck'] = df['Cabin'].apply(lambda x: x.split('/')[0] if pd.notnull(x) else 'Unknown')\n",
        "        df['CabinNumber'] = df['Cabin'].apply(lambda x: x.split('/')[1] if pd.notnull(x) else 'Unknown')\n",
        "        df['Side'] = df['Cabin'].apply(lambda x: x.split('/')[2] if pd.notnull(x) else 'Unknown')\n",
        "\n",
        "        numerical_columns = ['Age', 'RoomService', 'FoodCourt', 'ShoppingMall', 'Spa', 'VRDeck']\n",
        "        df[numerical_columns] = df[numerical_columns].fillna(df[numerical_columns].mean())\n",
        "\n",
        "        categorical_columns = ['HomePlanet', 'CryoSleep', 'Destination', 'VIP', 'Deck', 'Side']\n",
        "        df[categorical_columns] = df[categorical_columns].fillna('Unknown')\n",
        "\n",
        "        df.drop(['Name', 'Cabin'], axis=1, inplace=True)\n",
        "\n",
        "        logging.info(\"Data preprocessing completed\")\n",
        "        return df\n",
        ""
      ],
      "metadata": {
        "id": "0lBKIInNiext"
      },
      "outputs": [],
      "execution_count": null
    },
    {
      "cell_type": "markdown",
      "source": [
        "**Setting up hyperparameters**\n",
        "\n",
        "Putting best parameters and setting up training settings"
      ],
      "metadata": {
        "id": "wKf0XuOniext"
      }
    },
    {
      "cell_type": "code",
      "source": [
        "def _optimize_hyperparameters(self, X, y, use_gpu, n_trials, timeout=3600):\n",
        "        def objective(trial):\n",
        "            params = {\n",
        "                'learning_rate': trial.suggest_float('learning_rate', 0.01, 0.1),\n",
        "                'depth': trial.suggest_int('depth', 3, 10),\n",
        "                'l2_leaf_reg': trial.suggest_float('l2_leaf_reg', 1, 10),\n",
        "                'boosting_type': trial.suggest_categorical('boosting_type', ['Ordered', 'Plain']),\n",
        "                'max_ctr_complexity': trial.suggest_int('max_ctr_complexity', 0, 8)\n",
        "            }\n",
        "\n",
        "            cv = StratifiedKFold(n_splits=5, shuffle=True, random_state=42)\n",
        "            cv_scores = []\n",
        "            for train_idx, val_idx in cv.split(X, y):\n",
        "                X_train, X_val = X.iloc[train_idx], X.iloc[val_idx]\n",
        "                y_train, y_val = y.iloc[train_idx], y.iloc[val_idx]\n",
        "                train_data = Pool(data=X_train, label=y_train, cat_features=self.categorical_features_indices)\n",
        "                val_data = Pool(data=X_val, label=y_val, cat_features=self.categorical_features_indices)\n",
        "                model = CatBoostClassifier(**params, verbose=0)\n",
        "                model.fit(train_data, eval_set=val_data, early_stopping_rounds=100, verbose=0)\n",
        "                preds = model.predict_proba(X_val)[:, 1]\n",
        "                cv_scores.append(roc_auc_score(y_val, preds))\n",
        "            return np.mean(cv_scores)\n",
        "        study = optuna.create_study(direction=\"maximize\")\n",
        "        study.optimize(objective, n_trials=n_trials, timeout=timeout)\n",
        "        print(\"Number of finished trials: {}\".format(len(study.trials)))\n",
        "        print(\"Best trial:\")\n",
        "        trial = study.best_trial\n",
        "        print(\"  Value: {}\".format(trial.value))\n",
        "        print(\"  Params: \")\n",
        "        for key, value in trial.params.items():\n",
        "            print(\"    {}: {}\".format(key, value))\n",
        "\n",
        "        return trial.params\n",
        "\n",
        ""
      ],
      "metadata": {
        "trusted": true,
        "id": "ZSprFBOpiext"
      },
      "outputs": [],
      "execution_count": null
    },
    {
      "cell_type": "markdown",
      "source": [
        "**Setting up training function**\n"
      ],
      "metadata": {
        "id": "bTMqVXq4iexu"
      }
    },
    {
      "cell_type": "code",
      "source": [
        "def train(self, dataset, use_gpu=False, n_trials=10):\n",
        "        if use_gpu:\n",
        "            use_gpu = self._check_gpu_support()\n",
        "        logging.info(f\"Starting model training with dataset: {dataset}\")\n",
        "        logging.info(f\"Using GPU: {use_gpu}\")\n",
        "\n",
        "        train_data = pd.read_csv(dataset)\n",
        "        train_data = self._preprocess_data(train_data)\n",
        "\n",
        "        nulls = train_data.isnull().sum(axis=0)\n",
        "        print('Train nulls:', nulls[nulls > 0])\n",
        "\n",
        "        X = train_data.drop(['PassengerId', 'Transported'], axis=1)\n",
        "        y = train_data['Transported']\n",
        "\n",
        "        logging.info(\"Starting hyperparameter optimization\")\n",
        "        best_params = self._optimize_hyperparameters(X, y, use_gpu, n_trials)\n",
        "        logging.info(\"Hyperparameter optimization completed\")\n",
        "\n",
        "        logging.info(\"Training the final model\")\n",
        "        X_train, X_validation, y_train, y_validation = train_test_split(X, y, test_size=0.2, random_state=42, stratify=y)\n",
        "\n",
        "        train_pool = Pool(data=X_train, label=y_train, cat_features=self.categorical_features_indices)\n",
        "        val_pool = Pool(data=X_validation, label=y_validation, cat_features=self.categorical_features_indices)\n",
        "\n",
        "        model = CatBoostClassifier(\n",
        "            iterations=10000,\n",
        "            early_stopping_rounds=100,\n",
        "            verbose=100,\n",
        "            task_type=\"GPU\" if use_gpu else \"CPU\",\n",
        "            devices='0' if use_gpu else None,\n",
        "            **best_params\n",
        "        )\n",
        "\n",
        "        model.fit(train_pool, eval_set=val_pool)\n",
        "\n",
        "        y_pred = model.predict(X_validation)\n",
        "        y_pred_proba = model.predict_proba(X_validation)[:, 1]\n",
        "        accuracy = round(accuracy_score(y_validation, y_pred), 4)\n",
        "        roc_auc = round(roc_auc_score(y_validation, y_pred_proba), 4)\n",
        "        logging.info(f\"Model accuracy on validation set: {accuracy}\")\n",
        "        logging.info(f\"Model ROC AUC on validation set: {roc_auc}\")\n",
        "        print(classification_report(y_validation, y_pred))\n",
        "\n",
        "        model.save_model(self.model_path)\n",
        "        logging.info(f\"Model saved to file {self.model_path}\")\n",
        "\n",
        "        return f\"Model trained and saved successfully. Accuracy: {accuracy}, ROC AUC: {roc_auc}\"\n",
        ""
      ],
      "metadata": {
        "id": "7yzluA-Jiexu"
      },
      "outputs": [],
      "execution_count": null
    },
    {
      "cell_type": "markdown",
      "source": [
        "**Setting up prediction function**"
      ],
      "metadata": {
        "id": "zBopLTB_iexu"
      }
    },
    {
      "cell_type": "code",
      "source": [
        "def predict(self, dataset, use_gpu=False):\n",
        "        logging.info(f\"Starting prediction with dataset: {dataset}\")\n",
        "        logging.info(f\"Using GPU: {use_gpu}\")\n",
        "\n",
        "        if not os.path.exists(self.model_path):\n",
        "            error_msg = f\"Model not found in path {self.model_path}. Start the training first.\"\n",
        "            logging.error(error_msg)\n",
        "            return error_msg\n",
        "\n",
        "        test_data = pd.read_csv(dataset)\n",
        "        test_data = self._preprocess_data(test_data)\n",
        "\n",
        "        nulls = test_data.isnull().sum(axis=0)\n",
        "        print('Test nulls:', nulls[nulls > 0])\n",
        "\n",
        "        model = CatBoostClassifier()\n",
        "        model.load_model(self.model_path)\n",
        "        logging.info(f\"Model loaded from file {self.model_path}\")\n",
        "\n",
        "        passenger_ids = test_data['PassengerId']\n",
        "        X_test = test_data.drop(['PassengerId'], axis=1)\n",
        "\n",
        "        predictions = model.predict(X_test)\n",
        "\n",
        "        submission = pd.DataFrame()\n",
        "        submission['PassengerId'] = passenger_ids\n",
        "        submission['Transported'] = [bool(pred) for pred in predictions]\n",
        "\n",
        "        output_path = './data/result.csv'\n",
        "        submission.to_csv(output_path, index=False)\n",
        "        logging.info(f\"Predictions file saved: {output_path}\")\n",
        "\n",
        "        return f\"Predictions made and saved to {output_path}\""
      ],
      "metadata": {
        "id": "IYve_o4diexu"
      },
      "outputs": [],
      "execution_count": null
    },
    {
      "cell_type": "code",
      "source": [
        "model = My_Classifier_Model()\n",
        "\n",
        "training = model.train(dataset='train.csv', n_trials=30)\n",
        "print(training)\n",
        "\n",
        "prediction = model.predict(dataset='test.csv')\n",
        "print(prediction)\n",
        "\n",
        "submission = pd.read_csv('./data/result.csv')\n",
        "submission.to_csv('submission.csv', index=false)"
      ],
      "metadata": {
        "trusted": true,
        "id": "nniIYXYWiexu"
      },
      "outputs": [],
      "execution_count": null
    }
  ]
}